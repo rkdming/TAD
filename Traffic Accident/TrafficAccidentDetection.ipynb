{
  "nbformat": 4,
  "nbformat_minor": 0,
  "metadata": {
    "colab": {
      "provenance": []
    },
    "kernelspec": {
      "name": "python3",
      "display_name": "Python 3"
    },
    "language_info": {
      "name": "python"
    }
  },
  "cells": [
    {
      "cell_type": "code",
      "execution_count": null,
      "metadata": {
        "id": "OaHeY_uCM-Bs"
      },
      "outputs": [],
      "source": [
        "# This Python 3 environment comes with many helpful analytics libraries installed\n",
        "# It is defined by the kaggle/python Docker image: https://github.com/kaggle/docker-python\n",
        "# For example, here's several helpful packages to load\n",
        "import cv2\n",
        "import numpy as np # linear algebra\n",
        "import pandas as pd # data processing, CSV file I/O (e.g. pd.read_csv)\n",
        "import matplotlib.pyplot as plt\n",
        "import tensorflow as tf\n",
        "from tensorflow.keras import layers"
      ]
    },
    {
      "cell_type": "code",
      "source": [
        "batch_size = 100\n",
        "img_height = 224\n",
        "img_width = 224"
      ],
      "metadata": {
        "id": "nHIryiRMM_PX"
      },
      "execution_count": null,
      "outputs": []
    },
    {
      "cell_type": "code",
      "source": [
        "training_ds = tf.keras.preprocessing.image_dataset_from_directory(\n",
        "    '/content/data/train',\n",
        "    seed=101,\n",
        "    image_size= (img_height, img_width),\n",
        "    batch_size=batch_size\n",
        "\n",
        ")\n",
        "\n",
        "testing_ds = tf.keras.preprocessing.image_dataset_from_directory(\n",
        "    '/content/data/test',\n",
        "    seed=101,\n",
        "    image_size= (img_height, img_width),\n",
        "    batch_size=batch_size)\n",
        "\n",
        "validation_ds =  tf.keras.preprocessing.image_dataset_from_directory(\n",
        "    '/content/data/val',\n",
        "    seed=101,\n",
        "    image_size= (img_height, img_width),\n",
        "    batch_size=batch_size)"
      ],
      "metadata": {
        "id": "FJbP_g5FNADU"
      },
      "execution_count": null,
      "outputs": []
    },
    {
      "cell_type": "code",
      "source": [
        "class_names = training_ds.class_names\n",
        "\n",
        "## Configuring dataset for performance\n",
        "AUTOTUNE = tf.data.experimental.AUTOTUNE\n",
        "training_ds = training_ds.cache().prefetch(buffer_size=AUTOTUNE)\n",
        "testing_ds = testing_ds.cache().prefetch(buffer_size=AUTOTUNE)"
      ],
      "metadata": {
        "id": "cf-PhV-lNA_3"
      },
      "execution_count": null,
      "outputs": []
    },
    {
      "cell_type": "code",
      "source": [
        "img_shape = (img_height, img_width, 3)\n",
        "\n",
        "base_model = tf.keras.applications.MobileNetV2(input_shape=img_shape,\n",
        "                                               include_top=False,\n",
        "                                               weights='imagenet')\n",
        "\n",
        "base_model.trainable = False"
      ],
      "metadata": {
        "id": "uWpsaJ-rNCB8"
      },
      "execution_count": null,
      "outputs": []
    },
    {
      "cell_type": "code",
      "source": [
        "model = tf.keras.Sequential([\n",
        "    base_model,\n",
        "    layers.Conv2D(32, 3, activation='relu'),\n",
        "    layers.Conv2D(64, 3, activation='relu'),\n",
        "    layers.Conv2D(128, 3, activation='relu'),\n",
        "    layers.Flatten(),\n",
        "    layers.Dense(len(class_names), activation= 'softmax')\n",
        "])"
      ],
      "metadata": {
        "id": "s8S6yMicNDH4"
      },
      "execution_count": null,
      "outputs": []
    },
    {
      "cell_type": "code",
      "source": [
        "model.compile(optimizer='adam',loss='sparse_categorical_crossentropy', metrics=['accuracy'])"
      ],
      "metadata": {
        "id": "R-iFm_rFNEMl"
      },
      "execution_count": null,
      "outputs": []
    },
    {
      "cell_type": "code",
      "source": [
        "history = model.fit(training_ds, validation_data = validation_ds, epochs = 50)"
      ],
      "metadata": {
        "id": "ML8aIGDRNF_c"
      },
      "execution_count": null,
      "outputs": []
    },
    {
      "cell_type": "code",
      "source": [
        "plt.plot(history.history['loss'], label = 'training loss')\n",
        "plt.plot(history.history['accuracy'], label = 'training accuracy')\n",
        "plt.grid(True)\n",
        "plt.legend()"
      ],
      "metadata": {
        "id": "K07KEgKANG7i"
      },
      "execution_count": null,
      "outputs": []
    },
    {
      "cell_type": "code",
      "source": [
        "plt.plot(history.history['val_loss'], label = 'validation loss')\n",
        "plt.plot(history.history['val_accuracy'], label = 'validation accuracy')\n",
        "plt.grid(True)\n",
        "plt.legend()"
      ],
      "metadata": {
        "id": "95T1ytDSNImD"
      },
      "execution_count": null,
      "outputs": []
    },
    {
      "cell_type": "code",
      "source": [
        "AccuracyVector = []\n",
        "plt.figure(figsize=(30, 30))\n",
        "for images, labels in testing_ds.take(1):\n",
        "    predictions = model.predict(images)\n",
        "    predlabel = []\n",
        "    prdlbl = []\n",
        "\n",
        "    for mem in predictions:\n",
        "        predlabel.append(class_names[np.argmax(mem)])\n",
        "        prdlbl.append(np.argmax(mem))\n",
        "\n",
        "    AccuracyVector = np.array(prdlbl) == labels\n",
        "    for i in range(40):\n",
        "        ax = plt.subplot(10, 4, i + 1)\n",
        "        plt.imshow(images[i].numpy().astype(\"uint8\"))\n",
        "        plt.title('Pred: '+ predlabel[i]+' actl:'+class_names[labels[i]] )\n",
        "        plt.axis('off')\n",
        "        plt.grid(True)"
      ],
      "metadata": {
        "id": "Y6cNnjCNNJ5e"
      },
      "execution_count": null,
      "outputs": []
    }
  ]
}